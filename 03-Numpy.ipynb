{
 "cells": [
  {
   "cell_type": "code",
   "execution_count": null,
   "metadata": {},
   "outputs": [],
   "source": [
    "# Versão da Linguagem Python\n",
    "from platform import python_version\n",
    "print('Versão de Python Neste Jupyter Notebook:', python_version())\n",
    "\n",
    "# usaremos o filtro 'warning' para deixar mais limpo.\n",
    "import warnings\n",
    "warnings.filterwarnings('ignore')"
   ]
  },
  {
   "cell_type": "code",
   "execution_count": null,
   "metadata": {},
   "outputs": [],
   "source": [
    "c=[]\n",
    "for i in range(len(a)):\n",
    "c.append(a[i]*b[i])"
   ]
  },
  {
   "cell_type": "code",
   "execution_count": null,
   "metadata": {},
   "outputs": [],
   "source": [
    "for(i=0; i<rows; i++) {\n",
    "c[i]=a[i]*b[i];\n",
    "}"
   ]
  },
  {
   "cell_type": "code",
   "execution_count": null,
   "metadata": {},
   "outputs": [],
   "source": [
    "for(i=0; i<rows; i++) {\n",
    "for(j=0; j<cols; j++) {\n",
    "c[i][j]=a[i][j]*b[i][j];\n",
    "}\n",
    "}"
   ]
  },
  {
   "cell_type": "code",
   "execution_count": null,
   "metadata": {},
   "outputs": [],
   "source": [
    "c=a*b"
   ]
  },
  {
   "cell_type": "code",
   "execution_count": null,
   "metadata": {},
   "outputs": [],
   "source": [
    "import numpy as np"
   ]
  },
  {
   "cell_type": "code",
   "execution_count": null,
   "metadata": {},
   "outputs": [],
   "source": [
    "from numpy import *"
   ]
  },
  {
   "cell_type": "code",
   "execution_count": null,
   "metadata": {},
   "outputs": [],
   "source": [
    "np.<TAB>"
   ]
  },
  {
   "cell_type": "code",
   "execution_count": null,
   "metadata": {},
   "outputs": [],
   "source": [
    "np.lookfor? # or help(np.lookfor)"
   ]
  },
  {
   "cell_type": "code",
   "execution_count": null,
   "metadata": {},
   "outputs": [],
   "source": [
    "make use of the word cosine.\n",
    "np.lookfor(’cosine’)"
   ]
  },
  {
   "cell_type": "code",
   "execution_count": null,
   "metadata": {},
   "outputs": [],
   "source": [
    "np.cos? # or help(np.cos)"
   ]
  },
  {
   "cell_type": "code",
   "execution_count": null,
   "metadata": {},
   "outputs": [],
   "source": [
    "# One-dimensional arrays\n",
    "x=np.linspace(start,stop,num=50,endpoint=True,retstep=False)"
   ]
  },
  {
   "cell_type": "code",
   "execution_count": null,
   "metadata": {},
   "outputs": [],
   "source": [
    "import numpy as np\n",
    "xc,dx=np.linspace(0,1,11,retstep=True)\n",
    "xc,dx\n",
    "xo=np.linspace(0,1,10,endpoint=False)\n",
    "xo"
   ]
  },
  {
   "cell_type": "code",
   "execution_count": null,
   "metadata": {},
   "outputs": [],
   "source": [
    "x=np.arange(start=0,stop,step=1,dtype=None)"
   ]
  },
  {
   "cell_type": "code",
   "execution_count": null,
   "metadata": {},
   "outputs": [],
   "source": [
    "import numpy as np\n",
    "yo=np.arange(1,10)\n",
    "yo\n",
    "yoc=np.arange(1,10,dtype=complex)\n",
    "yoc"
   ]
  },
  {
   "cell_type": "code",
   "execution_count": null,
   "metadata": {},
   "outputs": [],
   "source": [
    "z=np.zeros(num,dtype=float)"
   ]
  },
  {
   "cell_type": "code",
   "execution_count": null,
   "metadata": {},
   "outputs": [],
   "source": [
    "ca=np.array(c,dtype=None,copy=True)"
   ]
  },
  {
   "cell_type": "code",
   "execution_count": null,
   "metadata": {},
   "outputs": [],
   "source": [
    "la=np.array([1,2,3.0])\n",
    "la\n",
    "x = np.linspace(0,1,11)\n",
    "x\n",
    "cx=np.array(x, dtype=complex)\n",
    "cx"
   ]
  },
  {
   "cell_type": "code",
   "execution_count": null,
   "metadata": {},
   "outputs": [],
   "source": [
    "y=np.sin(x)"
   ]
  },
  {
   "cell_type": "code",
   "execution_count": null,
   "metadata": {},
   "outputs": [],
   "source": [
    "xe=np.empty_like(x)"
   ]
  },
  {
   "cell_type": "code",
   "execution_count": null,
   "metadata": {},
   "outputs": [],
   "source": [
    "xl=np.linspace(0,0.5,5,endpoint=False)\n",
    "2 xm=np.linspace(0.5,0.6,10,endpoint=False)\n",
    "3 xr=np.linspace(0.6,1.0,5)\n",
    "4 xs=np.hstack((xl,xm,xr))"
   ]
  },
  {
   "cell_type": "code",
   "execution_count": null,
   "metadata": {},
   "outputs": [],
   "source": [
    "a=np.linspace(0,1,5)\n",
    "2 c=np.linspace(1,3,5)\n",
    "3 a+c\n",
    "4 a*c\n",
    "5 a/c"
   ]
  },
  {
   "cell_type": "code",
   "execution_count": null,
   "metadata": {},
   "outputs": [],
   "source": [
    "a=np.ones(4,dtype=int)\n",
    "2 b=np.linspace(0,1,4)\n",
    "3 a+=b\n",
    "4 a"
   ]
  },
  {
   "cell_type": "code",
   "execution_count": null,
   "metadata": {},
   "outputs": [],
   "source": [
    "import numpy as np\n",
    "2 a=np.linspace(0,1,5)\n",
    "3 2*a\n",
    "4 a*2\n",
    "5 a/5\n",
    "6 a**3\n",
    "7 a+2"
   ]
  },
  {
   "cell_type": "code",
   "execution_count": null,
   "metadata": {},
   "outputs": [],
   "source": [
    "f_av=f.copy() # make a copy, just as for lists\n",
    "for i in range(1,len(f)-1): # loop over interior points\n",
    "f_av[i]=(f[i-1]+f[i]+f[i+1])/3.0"
   ]
  },
  {
   "cell_type": "code",
   "execution_count": null,
   "metadata": {},
   "outputs": [],
   "source": [
    "f_av=f.copy() # as above\n",
    "f_av[1:-1]=(f[ :-2]+f[1:-1]+f[2: ])/3.0"
   ]
  },
  {
   "cell_type": "code",
   "execution_count": null,
   "metadata": {},
   "outputs": [],
   "source": [
    "# Ufuncs\n",
    "np.fix? # or help(np.fix)"
   ]
  },
  {
   "cell_type": "code",
   "execution_count": null,
   "metadata": {},
   "outputs": [],
   "source": [
    "x = np.linspace(-2, 2, 5)\n",
    "x\n",
    "1.0/x"
   ]
  },
  {
   "cell_type": "code",
   "execution_count": null,
   "metadata": {},
   "outputs": [],
   "source": [
    "import numpy as np\n",
    "def h(x):\n",
    "\"\"\" return 1 if 0<=x<=1 else 0. \"\"\"\n",
    "if x < 0.0:\n",
    "return 0.0\n",
    "elif x <= 1.0:\n",
    "return 1.0\n",
    "else:\n",
    "return 0.0\n",
    "v=np.linspace(-2, 2, 401)\n",
    "hv=h(v)"
   ]
  },
  {
   "cell_type": "code",
   "execution_count": null,
   "metadata": {},
   "outputs": [],
   "source": [
    "# Logical operations on vectors"
   ]
  },
  {
   "cell_type": "code",
   "execution_count": null,
   "metadata": {},
   "outputs": [],
   "source": [
    "import numpy as np\n",
    "2 x=np.linspace(-2,2,9)\n",
    "3 y=x<0\n",
    "4 x\n",
    "5 y\n",
    "6 z=x.copy()\n",
    "7 z[y]=-z[y]\n",
    "8 z"
   ]
  },
  {
   "cell_type": "code",
   "execution_count": null,
   "metadata": {},
   "outputs": [],
   "source": [
    "z=x.copy()\n",
    "z[z<0]=-z[z<0]"
   ]
  },
  {
   "cell_type": "code",
   "execution_count": null,
   "metadata": {},
   "outputs": [],
   "source": [
    "h=np.ones_like(x)\n",
    "2 h[x<0]=0.0\n",
    "3 h[x>1]=0.0\n",
    "4 h"
   ]
  },
  {
   "cell_type": "code",
   "execution_count": null,
   "metadata": {},
   "outputs": [],
   "source": [
    "result=np.select([C0, C1, C2], [R0, R1, R2], default=0)"
   ]
  },
  {
   "cell_type": "code",
   "execution_count": null,
   "metadata": {},
   "outputs": [],
   "source": [
    "x=np.linspace(-1,3,9)\n",
    "choices=[ x>=2, x>=1, x>=0, x<0 ]\n",
    "outcomes=[ 4.0, x**2, x**3, -x ]\n",
    "y=np.select(choices, outcomes)"
   ]
  },
  {
   "cell_type": "code",
   "execution_count": null,
   "metadata": {},
   "outputs": [],
   "source": [
    "x=np.linspace(-1,3,9)\n",
    "y=np.select([ x>=2, x>=1, x>=0, x<0 ],\n",
    "[ 4.0, x**2, x**3, -x ])"
   ]
  },
  {
   "cell_type": "code",
   "execution_count": null,
   "metadata": {},
   "outputs": [],
   "source": [
    "def m1(x):\n",
    "2 return np.exp(2*x)\n",
    "3 def m2(x):\n",
    "4 return 1.0\n",
    "5 def m3(x):\n",
    "6 return np.exp(1.0-x)\n",
    "7 conditions=[ x<0, x<1,1<=x ]\n",
    "8 functions=[ m1, m2, m3 ]\n",
    "9 x=np.linspace(-10,10,2001)\n",
    "10 m=np.piecewise(x, conditions, functions)"
   ]
  },
  {
   "cell_type": "code",
   "execution_count": null,
   "metadata": {},
   "outputs": [],
   "source": [
    "m=np.piecewise(x, [x<0, x<1, 1<=x], [lambda x: np.exp(2*x),\n",
    "lambda x: 1.0, lambda x: np.exp(1.0-x)])"
   ]
  },
  {
   "cell_type": "code",
   "execution_count": null,
   "metadata": {},
   "outputs": [],
   "source": [
    "# Two-dimensional arrays\n",
    "v=np.linspace(0,1.0,11)\n",
    "2 v.ndim\n",
    "3 v.shape\n",
    "4 v.dtype"
   ]
  },
  {
   "cell_type": "code",
   "execution_count": null,
   "metadata": {},
   "outputs": [],
   "source": [
    "x=np.array([[0,1,2,3],[10,11,12,13],[20,21,22,23]])\n",
    "2 x.ndim\n",
    "3 x,shape\n",
    "4 x.dtype\n",
    "5 x\n",
    "6 x[2]\n",
    "7 x[ : ,1]\n",
    "8 x[2][1]\n",
    "9 x[2,1]"
   ]
  },
  {
   "cell_type": "code",
   "execution_count": null,
   "metadata": {},
   "outputs": [],
   "source": [
    "# Broadcasting\n",
    "x=np.array([[0,1,2,3],[10,11,12,13],[20,21,22,23]])\n",
    "2 r=np.array([2,3,4,5])\n",
    "3 c=np.array([[5],[6],[7]])\n",
    "4 2*x\n",
    "5 x*r\n",
    "6 r*x\n",
    "7 c*x"
   ]
  },
  {
   "cell_type": "code",
   "execution_count": null,
   "metadata": {},
   "outputs": [],
   "source": [
    "xv=np.linspace(-1, 1, 9)\n",
    "2 yv=np.linspace(0, 1, 5)\n",
    "3 [xa,ya]=np.meshgrid(xv,yv)\n",
    "4 xa\n",
    "5 ya\n",
    "6 xa*ya"
   ]
  },
  {
   "cell_type": "code",
   "execution_count": null,
   "metadata": {},
   "outputs": [],
   "source": [
    "np.mgrid[-1:1:9j]\n",
    "2 np.mgrid[-1:1:0.25]"
   ]
  },
  {
   "cell_type": "code",
   "execution_count": null,
   "metadata": {},
   "outputs": [],
   "source": [
    "[xm,ym]=np.mgrid[-1:1:9j, 0:1:5j]\n",
    "2 xm\n",
    "3 ym\n",
    "4 xm*ym"
   ]
  },
  {
   "cell_type": "code",
   "execution_count": null,
   "metadata": {},
   "outputs": [],
   "source": [
    "[xo,yo]=np.ogrid[-1:1:9j, 0:1:5j]\n",
    "2 xo\n",
    "3 yo\n",
    "4 xo.shape\n",
    "5 yo.shape\n",
    "6 xo*yo"
   ]
  },
  {
   "cell_type": "code",
   "execution_count": null,
   "metadata": {},
   "outputs": [],
   "source": [
    "x=np.zeros((4,3),dtype=float)"
   ]
  },
  {
   "cell_type": "code",
   "execution_count": null,
   "metadata": {},
   "outputs": [],
   "source": [
    "l=range(6)\n",
    "a=np.reshape(l,(2,3))\n",
    "a"
   ]
  },
  {
   "cell_type": "code",
   "execution_count": null,
   "metadata": {},
   "outputs": [],
   "source": [
    "v=np.linspace(0, 1.0, 5)\n",
    "2 vg=np.reshape(v, (5, 1))\n",
    "3 vg.shape\n",
    "4 vg"
   ]
  },
  {
   "cell_type": "code",
   "execution_count": null,
   "metadata": {},
   "outputs": [],
   "source": [
    "# Operations on arrays and ufuncs\n",
    "u=np.linspace(10,20,3)\n",
    "2 vg=np.reshape(np.linspace(0,7,15),(5,3))\n",
    "3 u+vg"
   ]
  },
  {
   "cell_type": "code",
   "execution_count": null,
   "metadata": {},
   "outputs": [],
   "source": [
    "vg=np.reshape(np.linspace(0,7,15),(5,3))\n",
    "2 vg\n",
    "3 vg[1:-1,1: ]=9\n",
    "4 vg"
   ]
  },
  {
   "cell_type": "code",
   "execution_count": null,
   "metadata": {},
   "outputs": [],
   "source": [
    "# Higher-dimensional arrays\n",
    "[xo,yo,zo]=np.ogrid[-1:1:9j, 0:10:5j, 100:200:3j]\n",
    "2 xo\n",
    "3 yo\n",
    "4 zo\n",
    "5 xo+yo+zo"
   ]
  },
  {
   "cell_type": "code",
   "execution_count": null,
   "metadata": {},
   "outputs": [],
   "source": [
    "# Domestic input and output\n",
    "import numpy as np\n",
    "2 quarter=np.array([1,2,3,4],dtype=int)\n",
    "3 results=np.array([37.4,47.3,73.4,99])\n",
    "4 outfile=open(\"q4.txt\",\"w\")\n",
    "5 outfile.write(\"The results for the first four quarters\\n\\n\")\n",
    "6 for q,r in zip(quarter, results):\n",
    "7 outfile.write(\"For quarter %d the result is %5.1f\\n\" %\n",
    "8 (q,r))\n",
    "9 outfile.close()"
   ]
  },
  {
   "cell_type": "code",
   "execution_count": null,
   "metadata": {},
   "outputs": [],
   "source": [
    "infile=open(\"q4.txt\",\"r\")\n",
    "2 lquarter=[]\n",
    "3 lresult=[]\n",
    "4 temp=infile.readline()\n",
    "5 temp=infile.readline()\n",
    "6 for line in infile:\n",
    "7 words=line.split()\n",
    "8 lquarter.append(int(words[2]))\n",
    "9 lresult.append(float(words[6]))\n",
    "10 infile.close()\n",
    "11 import numpy as np\n",
    "12 aquarter=np.array(lquarter,dtype=int)\n",
    "13 aresult=np.array(lresult)"
   ]
  },
  {
   "cell_type": "code",
   "execution_count": null,
   "metadata": {},
   "outputs": [],
   "source": [
    "# Numpy text output and input\n",
    "len=21\n",
    "2 x=np.linspace(0,2*np.pi,len)\n",
    "3 c=np.cos(x)\n",
    "4 s=np.sin(x)\n",
    "5 t=np.tan(x)\n",
    "6 arr=np.empty((4,len),dtype=float)\n",
    "7 arr[0, : ]=x\n",
    "8 arr[1, : ]=c\n",
    "9 arr[2, : ]=s\n",
    "10 arr[3, : ]=t\n",
    "11 np.savetxt(’x.txt’,x)\n",
    "12 np.savetxt(’xcst.txt’,(x,c,s,t))\n",
    "13 np.savetxt(’xarr.txt’,arr)"
   ]
  },
  {
   "cell_type": "code",
   "execution_count": null,
   "metadata": {},
   "outputs": [],
   "source": [
    "xc=np.loadtxt(’x.txt’)\n",
    "2 xc,cc,sc,tc=np.loadtxt(’xcst.txt’)\n",
    "3 arrc=np.loadtxt(’xarr.txt’)"
   ]
  },
  {
   "cell_type": "code",
   "execution_count": null,
   "metadata": {},
   "outputs": [],
   "source": [
    "# Numpy binary output and input\n",
    "np.save(’array.npy’,arr)"
   ]
  },
  {
   "cell_type": "code",
   "execution_count": null,
   "metadata": {},
   "outputs": [],
   "source": [
    "arrc = np.load(’array.npy’)"
   ]
  },
  {
   "cell_type": "code",
   "execution_count": null,
   "metadata": {},
   "outputs": [],
   "source": [
    "np.savez(’test.npz’,x=x,c=c,s=s,t=t)"
   ]
  },
  {
   "cell_type": "code",
   "execution_count": null,
   "metadata": {},
   "outputs": [],
   "source": [
    "temp=np.load(’test.npz’)\n",
    "2 temp.files\n",
    "3 xc=temp[’x’]\n",
    "4 cc=temp[’c’]\n",
    "5 sc=temp[’s’]\n",
    "6 tc=temp[’t’]"
   ]
  },
  {
   "cell_type": "code",
   "execution_count": null,
   "metadata": {},
   "outputs": [],
   "source": [
    "# Maxima and minima\n",
    "x=np.array([[5,4,1],[7,3,2]])\n",
    "np.max(x)\n",
    "np.max(x,axis=0)\n",
    "np.max(x,axis=1)"
   ]
  },
  {
   "cell_type": "code",
   "execution_count": null,
   "metadata": {},
   "outputs": [],
   "source": [
    "# Simple statistics\n",
    "np.average(x,axis=None,weights=None)"
   ]
  },
  {
   "cell_type": "code",
   "execution_count": null,
   "metadata": {},
   "outputs": [],
   "source": [
    "np.var(x,axis=0,ddof=0)"
   ]
  },
  {
   "cell_type": "code",
   "execution_count": null,
   "metadata": {},
   "outputs": [],
   "source": [
    "# Converting coefficients to data\n",
    "import numpy as np\n",
    "2\n",
    "3 roots=[0,1,1,2]\n",
    "4 coeffs=np.poly(roots)\n",
    "5 coeffs\n",
    "6 np.roots(coeffs)\n",
    "7 x = np.linspace(0,0.5*np.pi,7)\n",
    "8 y=np.sin(x)\n",
    "9 c=np.polyfit(x,y,3)\n",
    "10 c\n",
    "11 y1=np.polyval(c,x)\n",
    "12 y1-y"
   ]
  },
  {
   "cell_type": "code",
   "execution_count": null,
   "metadata": {},
   "outputs": [],
   "source": [
    "# Linear algebra\n",
    "I=np.identity(3,dtype=float)."
   ]
  },
  {
   "cell_type": "code",
   "execution_count": null,
   "metadata": {},
   "outputs": [],
   "source": [
    "C=2*np.eye(3,4,-1)+3*np.eye(3,4,0)+4*np.eye(3,4,1)\n",
    "C"
   ]
  },
  {
   "cell_type": "code",
   "execution_count": null,
   "metadata": {},
   "outputs": [],
   "source": [
    "v1=np.array([1,2,3])\n",
    "2 v2=np.array([4,5,6])\n",
    "3 rows=np.vstack((v1,v2))\n",
    "4 rows\n",
    "5 cols=rows.T\n",
    "6 cols"
   ]
  },
  {
   "cell_type": "code",
   "execution_count": null,
   "metadata": {},
   "outputs": [],
   "source": [
    "# More specialized operations on matrices\n",
    "import numpy as np\n",
    "2\n",
    "3 a=np.array([[4,2,0],[9,3,7],[1,2,1]])\n",
    "4 a\n",
    "5 np.linalg.det(a)\n",
    "6 b=np.linalg.inv(a)\n",
    "7 b\n",
    "8 np.dot(b,a)"
   ]
  },
  {
   "cell_type": "code",
   "execution_count": null,
   "metadata": {},
   "outputs": [],
   "source": [
    "import numpy as np\n",
    "2\n",
    "3 a=np.array([[4,2,0],[9,3,7],[1,2,1]])\n",
    "4\n",
    "5 evals, evecs = np.linalg.eig(a)\n",
    "6 eval1 = evals[0]\n",
    "7 evec1 = evecs[:,0]\n",
    "8 np.sum(evec1*evec1)\n",
    "9 np.dot(a, evec1) - eval1*evec1"
   ]
  },
  {
   "cell_type": "code",
   "execution_count": null,
   "metadata": {},
   "outputs": [],
   "source": [
    "# Solving linear systems of equations\n",
    "import numpy as np\n",
    "2 a=np.array([[3,2,1],[5,5,5],[1,4,6]])\n",
    "3 b=np.array([[5,1],[5,0],[-3,-7.0/2]])\n",
    "4 x=np.linalg.solve(a,b)\n",
    "5 x\n",
    "6 np.dot(a,x)-b"
   ]
  },
  {
   "cell_type": "code",
   "execution_count": null,
   "metadata": {},
   "outputs": [],
   "source": [
    "# Scipy\n",
    "import scipy.optimize\n",
    "scipy.optimize?\n",
    "scipy.optimize.rootf?"
   ]
  },
  {
   "cell_type": "code",
   "execution_count": null,
   "metadata": {},
   "outputs": [],
   "source": [
    "import numpy as np\n",
    "2 import scipy.optimize as sco\n",
    "3\n",
    "4 def fun(x):\n",
    "5 return np.cosh(x)/np.sinh(x)-x\n",
    "6\n",
    "7 rooots=sco.fsolve(fun,1.0)\n",
    "8 root= roots[0]\n",
    "9 print \"root is %15.12f and value is %e\" % (root, fun(root))"
   ]
  },
  {
   "cell_type": "code",
   "execution_count": null,
   "metadata": {},
   "outputs": [],
   "source": [
    "%reload_ext watermark\n",
    "%watermark -a \"Caique Miranda\" -gu \"caiquemiranda\" -iv"
   ]
  },
  {
   "attachments": {},
   "cell_type": "markdown",
   "metadata": {},
   "source": [
    "### End."
   ]
  }
 ],
 "metadata": {
  "language_info": {
   "name": "python"
  },
  "orig_nbformat": 4
 },
 "nbformat": 4,
 "nbformat_minor": 2
}
