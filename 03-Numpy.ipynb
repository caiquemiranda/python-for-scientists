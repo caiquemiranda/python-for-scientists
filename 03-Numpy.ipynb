{
 "cells": [
  {
   "cell_type": "code",
   "execution_count": null,
   "metadata": {},
   "outputs": [],
   "source": [
    "# Versão da Linguagem Python\n",
    "from platform import python_version\n",
    "print('Versão de Python Neste Jupyter Notebook:', python_version())\n",
    "\n",
    "# usaremos o filtro 'warning' para deixar mais limpo.\n",
    "import warnings\n",
    "warnings.filterwarnings('ignore')"
   ]
  },
  {
   "cell_type": "code",
   "execution_count": null,
   "metadata": {},
   "outputs": [],
   "source": [
    "c=[]\n",
    "for i in range(len(a)):\n",
    "c.append(a[i]*b[i])"
   ]
  },
  {
   "cell_type": "code",
   "execution_count": null,
   "metadata": {},
   "outputs": [],
   "source": [
    "for(i=0; i<rows; i++) {\n",
    "c[i]=a[i]*b[i];\n",
    "}"
   ]
  },
  {
   "cell_type": "code",
   "execution_count": null,
   "metadata": {},
   "outputs": [],
   "source": [
    "for(i=0; i<rows; i++) {\n",
    "for(j=0; j<cols; j++) {\n",
    "c[i][j]=a[i][j]*b[i][j];\n",
    "}\n",
    "}"
   ]
  },
  {
   "cell_type": "code",
   "execution_count": null,
   "metadata": {},
   "outputs": [],
   "source": [
    "c=a*b"
   ]
  },
  {
   "cell_type": "code",
   "execution_count": null,
   "metadata": {},
   "outputs": [],
   "source": [
    "import numpy as np"
   ]
  },
  {
   "cell_type": "code",
   "execution_count": null,
   "metadata": {},
   "outputs": [],
   "source": [
    "from numpy import *"
   ]
  },
  {
   "cell_type": "code",
   "execution_count": null,
   "metadata": {},
   "outputs": [],
   "source": [
    "np.<TAB>"
   ]
  },
  {
   "cell_type": "code",
   "execution_count": null,
   "metadata": {},
   "outputs": [],
   "source": [
    "np.lookfor? # or help(np.lookfor)"
   ]
  },
  {
   "cell_type": "code",
   "execution_count": null,
   "metadata": {},
   "outputs": [],
   "source": [
    "make use of the word cosine.\n",
    "np.lookfor(’cosine’)"
   ]
  },
  {
   "cell_type": "code",
   "execution_count": null,
   "metadata": {},
   "outputs": [],
   "source": [
    "np.cos? # or help(np.cos)"
   ]
  },
  {
   "cell_type": "code",
   "execution_count": null,
   "metadata": {},
   "outputs": [],
   "source": [
    "# One-dimensional arrays\n",
    "x=np.linspace(start,stop,num=50,endpoint=True,retstep=False)"
   ]
  },
  {
   "cell_type": "code",
   "execution_count": null,
   "metadata": {},
   "outputs": [],
   "source": [
    "import numpy as np\n",
    "xc,dx=np.linspace(0,1,11,retstep=True)\n",
    "xc,dx\n",
    "xo=np.linspace(0,1,10,endpoint=False)\n",
    "xo"
   ]
  },
  {
   "cell_type": "code",
   "execution_count": null,
   "metadata": {},
   "outputs": [],
   "source": [
    "x=np.arange(start=0,stop,step=1,dtype=None)"
   ]
  },
  {
   "cell_type": "code",
   "execution_count": null,
   "metadata": {},
   "outputs": [],
   "source": [
    "import numpy as np\n",
    "yo=np.arange(1,10)\n",
    "yo\n",
    "yoc=np.arange(1,10,dtype=complex)\n",
    "yoc"
   ]
  },
  {
   "cell_type": "code",
   "execution_count": null,
   "metadata": {},
   "outputs": [],
   "source": [
    "z=np.zeros(num,dtype=float)"
   ]
  },
  {
   "cell_type": "code",
   "execution_count": null,
   "metadata": {},
   "outputs": [],
   "source": [
    "ca=np.array(c,dtype=None,copy=True)"
   ]
  },
  {
   "cell_type": "code",
   "execution_count": null,
   "metadata": {},
   "outputs": [],
   "source": [
    "la=np.array([1,2,3.0])\n",
    "la\n",
    "x = np.linspace(0,1,11)\n",
    "x\n",
    "cx=np.array(x, dtype=complex)\n",
    "cx"
   ]
  },
  {
   "cell_type": "code",
   "execution_count": null,
   "metadata": {},
   "outputs": [],
   "source": [
    "y=np.sin(x)"
   ]
  },
  {
   "cell_type": "code",
   "execution_count": null,
   "metadata": {},
   "outputs": [],
   "source": [
    "xe=np.empty_like(x)"
   ]
  },
  {
   "cell_type": "code",
   "execution_count": null,
   "metadata": {},
   "outputs": [],
   "source": [
    "xl=np.linspace(0,0.5,5,endpoint=False)\n",
    "2 xm=np.linspace(0.5,0.6,10,endpoint=False)\n",
    "3 xr=np.linspace(0.6,1.0,5)\n",
    "4 xs=np.hstack((xl,xm,xr))"
   ]
  },
  {
   "cell_type": "code",
   "execution_count": null,
   "metadata": {},
   "outputs": [],
   "source": [
    "a=np.linspace(0,1,5)\n",
    "2 c=np.linspace(1,3,5)\n",
    "3 a+c\n",
    "4 a*c\n",
    "5 a/c"
   ]
  },
  {
   "cell_type": "code",
   "execution_count": null,
   "metadata": {},
   "outputs": [],
   "source": [
    "a=np.ones(4,dtype=int)\n",
    "2 b=np.linspace(0,1,4)\n",
    "3 a+=b\n",
    "4 a"
   ]
  },
  {
   "cell_type": "code",
   "execution_count": null,
   "metadata": {},
   "outputs": [],
   "source": [
    "import numpy as np\n",
    "2 a=np.linspace(0,1,5)\n",
    "3 2*a\n",
    "4 a*2\n",
    "5 a/5\n",
    "6 a**3\n",
    "7 a+2"
   ]
  },
  {
   "cell_type": "code",
   "execution_count": null,
   "metadata": {},
   "outputs": [],
   "source": [
    "f_av=f.copy() # make a copy, just as for lists\n",
    "for i in range(1,len(f)-1): # loop over interior points\n",
    "f_av[i]=(f[i-1]+f[i]+f[i+1])/3.0"
   ]
  },
  {
   "cell_type": "code",
   "execution_count": null,
   "metadata": {},
   "outputs": [],
   "source": [
    "f_av=f.copy() # as above\n",
    "f_av[1:-1]=(f[ :-2]+f[1:-1]+f[2: ])/3.0"
   ]
  },
  {
   "cell_type": "code",
   "execution_count": null,
   "metadata": {},
   "outputs": [],
   "source": [
    "# Ufuncs\n",
    "np.fix? # or help(np.fix)"
   ]
  },
  {
   "cell_type": "code",
   "execution_count": null,
   "metadata": {},
   "outputs": [],
   "source": [
    "x = np.linspace(-2, 2, 5)\n",
    "x\n",
    "1.0/x"
   ]
  },
  {
   "cell_type": "code",
   "execution_count": null,
   "metadata": {},
   "outputs": [],
   "source": [
    "import numpy as np\n",
    "def h(x):\n",
    "\"\"\" return 1 if 0<=x<=1 else 0. \"\"\"\n",
    "if x < 0.0:\n",
    "return 0.0\n",
    "elif x <= 1.0:\n",
    "return 1.0\n",
    "else:\n",
    "return 0.0\n",
    "v=np.linspace(-2, 2, 401)\n",
    "hv=h(v)"
   ]
  },
  {
   "cell_type": "code",
   "execution_count": null,
   "metadata": {},
   "outputs": [],
   "source": [
    "# Logical operations on vectors"
   ]
  },
  {
   "cell_type": "code",
   "execution_count": null,
   "metadata": {},
   "outputs": [],
   "source": [
    "import numpy as np\n",
    "2 x=np.linspace(-2,2,9)\n",
    "3 y=x<0\n",
    "4 x\n",
    "5 y\n",
    "6 z=x.copy()\n",
    "7 z[y]=-z[y]\n",
    "8 z"
   ]
  },
  {
   "cell_type": "code",
   "execution_count": null,
   "metadata": {},
   "outputs": [],
   "source": [
    "z=x.copy()\n",
    "z[z<0]=-z[z<0]"
   ]
  },
  {
   "cell_type": "code",
   "execution_count": null,
   "metadata": {},
   "outputs": [],
   "source": [
    "h=np.ones_like(x)\n",
    "2 h[x<0]=0.0\n",
    "3 h[x>1]=0.0\n",
    "4 h"
   ]
  },
  {
   "cell_type": "code",
   "execution_count": null,
   "metadata": {},
   "outputs": [],
   "source": [
    "result=np.select([C0, C1, C2], [R0, R1, R2], default=0)"
   ]
  },
  {
   "cell_type": "code",
   "execution_count": null,
   "metadata": {},
   "outputs": [],
   "source": [
    "x=np.linspace(-1,3,9)\n",
    "choices=[ x>=2, x>=1, x>=0, x<0 ]\n",
    "outcomes=[ 4.0, x**2, x**3, -x ]\n",
    "y=np.select(choices, outcomes)"
   ]
  },
  {
   "cell_type": "code",
   "execution_count": null,
   "metadata": {},
   "outputs": [],
   "source": [
    "x=np.linspace(-1,3,9)\n",
    "y=np.select([ x>=2, x>=1, x>=0, x<0 ],\n",
    "[ 4.0, x**2, x**3, -x ])"
   ]
  },
  {
   "cell_type": "code",
   "execution_count": null,
   "metadata": {},
   "outputs": [],
   "source": [
    "def m1(x):\n",
    "2 return np.exp(2*x)\n",
    "3 def m2(x):\n",
    "4 return 1.0\n",
    "5 def m3(x):\n",
    "6 return np.exp(1.0-x)\n",
    "7 conditions=[ x<0, x<1,1<=x ]\n",
    "8 functions=[ m1, m2, m3 ]\n",
    "9 x=np.linspace(-10,10,2001)\n",
    "10 m=np.piecewise(x, conditions, functions)"
   ]
  },
  {
   "cell_type": "code",
   "execution_count": null,
   "metadata": {},
   "outputs": [],
   "source": [
    "m=np.piecewise(x, [x<0, x<1, 1<=x], [lambda x: np.exp(2*x),\n",
    "lambda x: 1.0, lambda x: np.exp(1.0-x)])"
   ]
  },
  {
   "cell_type": "code",
   "execution_count": null,
   "metadata": {},
   "outputs": [],
   "source": [
    "# Two-dimensional arrays\n",
    "v=np.linspace(0,1.0,11)\n",
    "2 v.ndim\n",
    "3 v.shape\n",
    "4 v.dtype"
   ]
  },
  {
   "cell_type": "code",
   "execution_count": null,
   "metadata": {},
   "outputs": [],
   "source": [
    "x=np.array([[0,1,2,3],[10,11,12,13],[20,21,22,23]])\n",
    "2 x.ndim\n",
    "3 x,shape\n",
    "4 x.dtype\n",
    "5 x\n",
    "6 x[2]\n",
    "7 x[ : ,1]\n",
    "8 x[2][1]\n",
    "9 x[2,1]"
   ]
  },
  {
   "cell_type": "code",
   "execution_count": null,
   "metadata": {},
   "outputs": [],
   "source": [
    "# Broadcasting\n",
    "x=np.array([[0,1,2,3],[10,11,12,13],[20,21,22,23]])\n",
    "2 r=np.array([2,3,4,5])\n",
    "3 c=np.array([[5],[6],[7]])\n",
    "4 2*x\n",
    "5 x*r\n",
    "6 r*x\n",
    "7 c*x"
   ]
  },
  {
   "cell_type": "code",
   "execution_count": null,
   "metadata": {},
   "outputs": [],
   "source": [
    "xv=np.linspace(-1, 1, 9)\n",
    "2 yv=np.linspace(0, 1, 5)\n",
    "3 [xa,ya]=np.meshgrid(xv,yv)\n",
    "4 xa\n",
    "5 ya\n",
    "6 xa*ya"
   ]
  },
  {
   "cell_type": "code",
   "execution_count": null,
   "metadata": {},
   "outputs": [],
   "source": [
    "np.mgrid[-1:1:9j]\n",
    "2 np.mgrid[-1:1:0.25]"
   ]
  },
  {
   "cell_type": "code",
   "execution_count": null,
   "metadata": {},
   "outputs": [],
   "source": [
    "[xm,ym]=np.mgrid[-1:1:9j, 0:1:5j]\n",
    "2 xm\n",
    "3 ym\n",
    "4 xm*ym"
   ]
  },
  {
   "cell_type": "code",
   "execution_count": null,
   "metadata": {},
   "outputs": [],
   "source": [
    "[xo,yo]=np.ogrid[-1:1:9j, 0:1:5j]\n",
    "2 xo\n",
    "3 yo\n",
    "4 xo.shape\n",
    "5 yo.shape\n",
    "6 xo*yo"
   ]
  },
  {
   "cell_type": "code",
   "execution_count": null,
   "metadata": {},
   "outputs": [],
   "source": [
    "x=np.zeros((4,3),dtype=float)"
   ]
  },
  {
   "cell_type": "code",
   "execution_count": null,
   "metadata": {},
   "outputs": [],
   "source": [
    "l=range(6)\n",
    "a=np.reshape(l,(2,3))\n",
    "a"
   ]
  },
  {
   "cell_type": "code",
   "execution_count": null,
   "metadata": {},
   "outputs": [],
   "source": [
    "v=np.linspace(0, 1.0, 5)\n",
    "2 vg=np.reshape(v, (5, 1))\n",
    "3 vg.shape\n",
    "4 vg"
   ]
  },
  {
   "cell_type": "code",
   "execution_count": null,
   "metadata": {},
   "outputs": [],
   "source": []
  },
  {
   "cell_type": "code",
   "execution_count": null,
   "metadata": {},
   "outputs": [],
   "source": []
  },
  {
   "cell_type": "code",
   "execution_count": null,
   "metadata": {},
   "outputs": [],
   "source": []
  },
  {
   "cell_type": "code",
   "execution_count": null,
   "metadata": {},
   "outputs": [],
   "source": []
  },
  {
   "cell_type": "code",
   "execution_count": null,
   "metadata": {},
   "outputs": [],
   "source": []
  },
  {
   "cell_type": "code",
   "execution_count": null,
   "metadata": {},
   "outputs": [],
   "source": []
  },
  {
   "cell_type": "code",
   "execution_count": null,
   "metadata": {},
   "outputs": [],
   "source": []
  },
  {
   "cell_type": "code",
   "execution_count": null,
   "metadata": {},
   "outputs": [],
   "source": []
  },
  {
   "cell_type": "code",
   "execution_count": null,
   "metadata": {},
   "outputs": [],
   "source": []
  },
  {
   "cell_type": "code",
   "execution_count": null,
   "metadata": {},
   "outputs": [],
   "source": []
  },
  {
   "cell_type": "code",
   "execution_count": null,
   "metadata": {},
   "outputs": [],
   "source": []
  },
  {
   "cell_type": "code",
   "execution_count": null,
   "metadata": {},
   "outputs": [],
   "source": []
  },
  {
   "cell_type": "code",
   "execution_count": null,
   "metadata": {},
   "outputs": [],
   "source": []
  },
  {
   "cell_type": "code",
   "execution_count": null,
   "metadata": {},
   "outputs": [],
   "source": []
  },
  {
   "cell_type": "code",
   "execution_count": null,
   "metadata": {},
   "outputs": [],
   "source": []
  },
  {
   "cell_type": "code",
   "execution_count": null,
   "metadata": {},
   "outputs": [],
   "source": []
  },
  {
   "cell_type": "code",
   "execution_count": null,
   "metadata": {},
   "outputs": [],
   "source": []
  },
  {
   "cell_type": "code",
   "execution_count": null,
   "metadata": {},
   "outputs": [],
   "source": []
  },
  {
   "cell_type": "code",
   "execution_count": null,
   "metadata": {},
   "outputs": [],
   "source": []
  },
  {
   "cell_type": "code",
   "execution_count": null,
   "metadata": {},
   "outputs": [],
   "source": []
  },
  {
   "cell_type": "code",
   "execution_count": null,
   "metadata": {},
   "outputs": [],
   "source": []
  },
  {
   "cell_type": "code",
   "execution_count": null,
   "metadata": {},
   "outputs": [],
   "source": []
  },
  {
   "cell_type": "code",
   "execution_count": null,
   "metadata": {},
   "outputs": [],
   "source": []
  },
  {
   "cell_type": "code",
   "execution_count": null,
   "metadata": {},
   "outputs": [],
   "source": []
  },
  {
   "cell_type": "code",
   "execution_count": null,
   "metadata": {},
   "outputs": [],
   "source": []
  },
  {
   "cell_type": "code",
   "execution_count": null,
   "metadata": {},
   "outputs": [],
   "source": [
    "%reload_ext watermark\n",
    "%watermark -a \"Caique Miranda\" -gu \"caiquemiranda\" -iv"
   ]
  },
  {
   "attachments": {},
   "cell_type": "markdown",
   "metadata": {},
   "source": [
    "### End."
   ]
  }
 ],
 "metadata": {
  "language_info": {
   "name": "python"
  },
  "orig_nbformat": 4
 },
 "nbformat": 4,
 "nbformat_minor": 2
}
