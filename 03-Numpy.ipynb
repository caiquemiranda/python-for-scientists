{
 "cells": [
  {
   "cell_type": "code",
   "execution_count": null,
   "metadata": {},
   "outputs": [],
   "source": [
    "# Versão da Linguagem Python\n",
    "from platform import python_version\n",
    "print('Versão de Python Neste Jupyter Notebook:', python_version())\n",
    "\n",
    "# usaremos o filtro 'warning' para deixar mais limpo.\n",
    "import warnings\n",
    "warnings.filterwarnings('ignore')"
   ]
  },
  {
   "cell_type": "code",
   "execution_count": null,
   "metadata": {},
   "outputs": [],
   "source": [
    "c = []\n",
    "for i in range(len(a)):\n",
    "    c.append(a[i] * b[i])"
   ]
  },
  {
   "cell_type": "code",
   "execution_count": null,
   "metadata": {},
   "outputs": [],
   "source": [
    "for(i = 0; i<rows; i++) {\n",
    "    c[i] = a[i] * b[i];\n",
    "}"
   ]
  },
  {
   "cell_type": "code",
   "execution_count": null,
   "metadata": {},
   "outputs": [],
   "source": [
    "for(i = 0; i < rows; i++) {\n",
    "    for(j = 0; j < cols; j++) {\n",
    "        c[i][j] = a[i][j] * b[i][j];\n",
    "    }\n",
    "}"
   ]
  },
  {
   "cell_type": "code",
   "execution_count": null,
   "metadata": {},
   "outputs": [],
   "source": [
    "c = a * b"
   ]
  },
  {
   "cell_type": "code",
   "execution_count": null,
   "metadata": {},
   "outputs": [],
   "source": [
    "import numpy as np"
   ]
  },
  {
   "cell_type": "code",
   "execution_count": null,
   "metadata": {},
   "outputs": [],
   "source": [
    "from numpy import *"
   ]
  },
  {
   "cell_type": "code",
   "execution_count": null,
   "metadata": {},
   "outputs": [],
   "source": [
    "# np.<TAB>"
   ]
  },
  {
   "cell_type": "code",
   "execution_count": null,
   "metadata": {},
   "outputs": [],
   "source": [
    "np.lookfor? # or help(np.lookfor)"
   ]
  },
  {
   "cell_type": "code",
   "execution_count": null,
   "metadata": {},
   "outputs": [],
   "source": [
    "np.lookfor('cosine')"
   ]
  },
  {
   "cell_type": "code",
   "execution_count": null,
   "metadata": {},
   "outputs": [],
   "source": [
    "np.cos? # or help(np.cos)"
   ]
  },
  {
   "cell_type": "code",
   "execution_count": null,
   "metadata": {},
   "outputs": [],
   "source": [
    "# One-dimensional arrays\n",
    "x = np.linspace(start, stop, \n",
    "                num = 50, \n",
    "                endpoint = True, \n",
    "                retstep = False)"
   ]
  },
  {
   "cell_type": "code",
   "execution_count": null,
   "metadata": {},
   "outputs": [],
   "source": [
    "import numpy as np\n",
    "\n",
    "xc, dx = np.linspace(0, 1, 11, retstep = True)\n",
    "xc, dx\n",
    "xo = np.linspace(0, 1, 10, endpoint = False)\n",
    "xo"
   ]
  },
  {
   "cell_type": "code",
   "execution_count": null,
   "metadata": {},
   "outputs": [],
   "source": [
    "x = np.arange(start = 0, stop, step = 1, dtype = None)"
   ]
  },
  {
   "cell_type": "code",
   "execution_count": null,
   "metadata": {},
   "outputs": [],
   "source": [
    "import numpy as np\n",
    "\n",
    "yo = np.arange(1, 10)\n",
    "yo\n",
    "yoc = np.arange(1, 10, dtype = complex)\n",
    "yoc"
   ]
  },
  {
   "cell_type": "code",
   "execution_count": null,
   "metadata": {},
   "outputs": [],
   "source": [
    "z = np.zeros(num, dtype = float)"
   ]
  },
  {
   "cell_type": "code",
   "execution_count": null,
   "metadata": {},
   "outputs": [],
   "source": [
    "ca = np.array(c, dtype = None, copy = True)"
   ]
  },
  {
   "cell_type": "code",
   "execution_count": null,
   "metadata": {},
   "outputs": [],
   "source": [
    "la = np.array([1, 2, 3.0])\n",
    "la\n",
    "x = np.linspace(0, 1, 11)\n",
    "x\n",
    "cx = np.array(x, dtype = complex)\n",
    "cx"
   ]
  },
  {
   "cell_type": "code",
   "execution_count": null,
   "metadata": {},
   "outputs": [],
   "source": [
    "y = np.sin(x)"
   ]
  },
  {
   "cell_type": "code",
   "execution_count": null,
   "metadata": {},
   "outputs": [],
   "source": [
    "xe = np.empty_like(x)"
   ]
  },
  {
   "cell_type": "code",
   "execution_count": null,
   "metadata": {},
   "outputs": [],
   "source": [
    "xl = np.linspace(0, 0.5, 5, endpoint = False)\n",
    "xm = np.linspace(0.5, 0.6, 10, endpoint = False)\n",
    "xr = np.linspace(0.6, 1.0, 5)\n",
    "xs = np.hstack((xl, xm, xr))"
   ]
  },
  {
   "cell_type": "code",
   "execution_count": null,
   "metadata": {},
   "outputs": [],
   "source": [
    "a = np.linspace(0, 1, 5)\n",
    "c = np.linspace(1, 3, 5)\n",
    "a + c\n",
    "a * c\n",
    "a / c"
   ]
  },
  {
   "cell_type": "code",
   "execution_count": null,
   "metadata": {},
   "outputs": [],
   "source": [
    "a = np.ones(4, dtype = int)\n",
    "b = np.linspace(0, 1, 4)\n",
    "a += b\n",
    "a"
   ]
  },
  {
   "cell_type": "code",
   "execution_count": null,
   "metadata": {},
   "outputs": [],
   "source": [
    "import numpy as np\n",
    "\n",
    "a = np.linspace(0, 1, 5)\n",
    "2 * a\n",
    "a * 2\n",
    "a / 5\n",
    "a ** 3\n",
    "a + 2"
   ]
  },
  {
   "cell_type": "code",
   "execution_count": null,
   "metadata": {},
   "outputs": [],
   "source": [
    "f_av = f.copy() # make a copy, just as for lists\n",
    "for i in range(1, len(f) -1): # loop over interior points\n",
    "    f_av[i] = (f[i -1] + f[i] + f[i +1]) / 3.0"
   ]
  },
  {
   "cell_type": "code",
   "execution_count": null,
   "metadata": {},
   "outputs": [],
   "source": [
    "f_av = f.copy() # as above\n",
    "f_av[1: -1] = (f[: -2] + f[1: -1] + f[2: ]) / 3.0"
   ]
  },
  {
   "cell_type": "code",
   "execution_count": null,
   "metadata": {},
   "outputs": [],
   "source": [
    "# Ufuncs\n",
    "np.fix? # or help(np.fix)"
   ]
  },
  {
   "cell_type": "code",
   "execution_count": null,
   "metadata": {},
   "outputs": [],
   "source": [
    "x = np.linspace(-2, 2, 5)\n",
    "x\n",
    "1.0 / x"
   ]
  },
  {
   "cell_type": "code",
   "execution_count": null,
   "metadata": {},
   "outputs": [],
   "source": [
    "import numpy as np\n",
    "\n",
    "def h(x):\n",
    "    \"\"\" return 1 if 0<=x<=1 else 0. \"\"\"\n",
    "\n",
    "    if x < 0.0:\n",
    "        return 0.0\n",
    "    elif x <= 1.0:\n",
    "        return 1.0\n",
    "    else:\n",
    "        return 0.0\n",
    "\n",
    "v = np.linspace(-2, 2, 401)\n",
    "hv = h(v)"
   ]
  },
  {
   "cell_type": "code",
   "execution_count": null,
   "metadata": {},
   "outputs": [],
   "source": [
    "# Logical operations on vectors"
   ]
  },
  {
   "cell_type": "code",
   "execution_count": null,
   "metadata": {},
   "outputs": [],
   "source": [
    "import numpy as np\n",
    "\n",
    "x = np.linspace(-2, 2, 9)\n",
    "y = x < 0\n",
    "x\n",
    "y\n",
    "z = x.copy()\n",
    "z[y] =- z[y]\n",
    "z"
   ]
  },
  {
   "cell_type": "code",
   "execution_count": null,
   "metadata": {},
   "outputs": [],
   "source": [
    "z = x.copy()\n",
    "z[z < 0] =- z[z < 0]"
   ]
  },
  {
   "cell_type": "code",
   "execution_count": null,
   "metadata": {},
   "outputs": [],
   "source": [
    "h = np.ones_like(x)\n",
    "h[x < 0] = 0.0\n",
    "h[x > 1] = 0.0\n",
    "h"
   ]
  },
  {
   "cell_type": "code",
   "execution_count": null,
   "metadata": {},
   "outputs": [],
   "source": [
    "result = np.select([C0, C1, C2], \n",
    "                   [R0, R1, R2],\n",
    "                   default = 0)"
   ]
  },
  {
   "cell_type": "code",
   "execution_count": null,
   "metadata": {},
   "outputs": [],
   "source": [
    "x = np.linspace(-1, 3, 9)\n",
    "\n",
    "choices=[ x >= 2, x >= 1, x >= 0, x < 0 ]\n",
    "outcomes=[ 4.0, x ** 2, x ** 3, -x ]\n",
    "\n",
    "y = np.select(choices, outcomes)"
   ]
  },
  {
   "cell_type": "code",
   "execution_count": null,
   "metadata": {},
   "outputs": [],
   "source": [
    "x = np.linspace(-1, 3, 9)\n",
    "y = np.select([ x >= 2, x >= 1, x >= 0, x < 0 ],\n",
    "              [4.0, x ** 2, x ** 3, -x ])"
   ]
  },
  {
   "cell_type": "code",
   "execution_count": null,
   "metadata": {},
   "outputs": [],
   "source": [
    "def m1(x):\n",
    "    return np.exp(2 * x)\n",
    "\n",
    "def m2(x):\n",
    "    return 1.0\n",
    "\n",
    "def m3(x):\n",
    "    return np.exp(1.0 - x)\n",
    "\n",
    "conditions=[x < 0, x < 1, 1 <= x]\n",
    "functions=[m1, m2, m3]\n",
    "\n",
    "x = np.linspace(-10, 10, 2001)\n",
    "m = np.piecewise(x, conditions, functions)"
   ]
  },
  {
   "cell_type": "code",
   "execution_count": null,
   "metadata": {},
   "outputs": [],
   "source": [
    "m = np.piecewise(x, \n",
    "                 [x < 0, x < 1, 1 <= x],\n",
    "                 [lambda x: np.exp(2 * x),\n",
    "                  lambda x: 1.0, lambda x: np.exp(1.0 - x)])"
   ]
  },
  {
   "cell_type": "code",
   "execution_count": null,
   "metadata": {},
   "outputs": [],
   "source": [
    "# Two-dimensional arrays\n",
    "\n",
    "v = np.linspace(0, 1.0, 11)\n",
    "v.ndim\n",
    "v.shape\n",
    "v.dtype"
   ]
  },
  {
   "cell_type": "code",
   "execution_count": null,
   "metadata": {},
   "outputs": [],
   "source": [
    "x = np.array([[0, 1, 2, 3],\n",
    "              [10, 11, 12, 13],\n",
    "              [20, 21, 22, 23]])\n",
    "\n",
    "x.ndim\n",
    "x, shape\n",
    "x.dtype\n",
    "x\n",
    "x[2]\n",
    "x[ : ,1]\n",
    "x[2][1]\n",
    "x[2,1]"
   ]
  },
  {
   "cell_type": "code",
   "execution_count": null,
   "metadata": {},
   "outputs": [],
   "source": [
    "# Broadcasting\n",
    "x = np.array([[0, 1, 2, 3],\n",
    "              [10, 11, 12, 13],\n",
    "              [20, 21, 22, 23]])\n",
    "\n",
    "r = np.array([2, 3, 4, 5])\n",
    "c = np.array([[5], [6], [7]])\n",
    "\n",
    "2*x\n",
    "x*r\n",
    "r*x\n",
    "c*x"
   ]
  },
  {
   "cell_type": "code",
   "execution_count": null,
   "metadata": {},
   "outputs": [],
   "source": [
    "xv = np.linspace(-1, 1, 9)\n",
    "yv = np.linspace(0, 1, 5)\n",
    "[xa, ya] = np.meshgrid(xv, yv)\n",
    "xa\n",
    "ya\n",
    "xa * ya"
   ]
  },
  {
   "cell_type": "code",
   "execution_count": null,
   "metadata": {},
   "outputs": [],
   "source": [
    "np.mgrid[-1: 1: 9j]\n",
    "np.mgrid[-1: 1: 0.25]"
   ]
  },
  {
   "cell_type": "code",
   "execution_count": null,
   "metadata": {},
   "outputs": [],
   "source": [
    "[xm, ym] = np.mgrid[-1: 1: 9j,\n",
    "                    0: 1: 5j]\n",
    "xm\n",
    "ym\n",
    "xm * ym"
   ]
  },
  {
   "cell_type": "code",
   "execution_count": null,
   "metadata": {},
   "outputs": [],
   "source": [
    "[xo, yo] = np.ogrid[-1: 1: 9j, \n",
    "                    0: 1: 5j]\n",
    "\n",
    "xo\n",
    "yo\n",
    "xo.shape\n",
    "yo.shape\n",
    "xo * yo"
   ]
  },
  {
   "cell_type": "code",
   "execution_count": null,
   "metadata": {},
   "outputs": [],
   "source": [
    "x = np.zeros((4, 3), dtype = float)"
   ]
  },
  {
   "cell_type": "code",
   "execution_count": null,
   "metadata": {},
   "outputs": [],
   "source": [
    "l = range(6)\n",
    "a = np.reshape(l, (2, 3))\n",
    "a"
   ]
  },
  {
   "cell_type": "code",
   "execution_count": null,
   "metadata": {},
   "outputs": [],
   "source": [
    "v = np.linspace(0, 1.0, 5)\n",
    "vg = np.reshape(v, (5, 1))\n",
    "vg.shape\n",
    "vg"
   ]
  },
  {
   "cell_type": "code",
   "execution_count": null,
   "metadata": {},
   "outputs": [],
   "source": [
    "# Operations on arrays and ufuncs\n",
    "u = np.linspace(10, 20, 3)\n",
    "vg = np.reshape(np.linspace(0, 7, 15), (5, 3))\n",
    "u + vg"
   ]
  },
  {
   "cell_type": "code",
   "execution_count": null,
   "metadata": {},
   "outputs": [],
   "source": [
    "vg=np.reshape(np.linspace(0,7,15),(5,3))\n",
    "vg\n",
    "vg[1: -1, 1: ] = 9\n",
    "vg"
   ]
  },
  {
   "cell_type": "code",
   "execution_count": null,
   "metadata": {},
   "outputs": [],
   "source": [
    "# Higher-dimensional arrays\n",
    "[xo, yo, zo] = np.ogrid[-1: 1: 9j,\n",
    "                        0: 10: 5j, \n",
    "                        100: 200: 3j]\n",
    "xo\n",
    "yo\n",
    "zo\n",
    "xo + yo + zo"
   ]
  },
  {
   "cell_type": "code",
   "execution_count": 1,
   "metadata": {},
   "outputs": [],
   "source": [
    "# Domestic input and output\n",
    "import numpy as np\n",
    "\n",
    "quarter = np.array([1, 2, 3, 4], dtype = int)\n",
    "results = np.array([37.4, 47.3, 73.4, 99])\n",
    "\n",
    "outfile = open(\"data/q4.txt\",\"w\")\n",
    "outfile.write(\"The results for the first four quarters\\n\\n\")\n",
    "\n",
    "for q,r in zip(quarter, results):\n",
    "    outfile.write(\"For quarter %d the result is %5.1f\\n\" %(q,r))\n",
    "\n",
    "outfile.close()"
   ]
  },
  {
   "cell_type": "code",
   "execution_count": null,
   "metadata": {},
   "outputs": [],
   "source": [
    "infile = open(\"data/q4.txt\", \"r\")\n",
    "lquarter = []\n",
    "lresult = []\n",
    "temp = infile.readline()\n",
    "temp = infile.readline()\n",
    "\n",
    "for line in infile:\n",
    "    words = line.split()\n",
    "    lquarter.append(int(words[2]))\n",
    "    lresult.append(float(words[6]))\n",
    "\n",
    "infile.close()\n",
    "\n",
    "import numpy as np\n",
    "\n",
    "aquarter = np.array(lquarter, dtype = int)\n",
    "aresult = np.array(lresult)"
   ]
  },
  {
   "cell_type": "code",
   "execution_count": null,
   "metadata": {},
   "outputs": [],
   "source": [
    "# Numpy text output and input\n",
    "len = 21\n",
    "x = np.linspace(0, 2 * np.pi, len)\n",
    "c = np.cos(x)\n",
    "s = np.sin(x)\n",
    "t = np.tan(x)\n",
    "arr=np.empty((4, len), dtype = float)\n",
    "\n",
    "arr[0, : ] = x\n",
    "arr[1, : ] = c\n",
    "arr[2, : ] = s\n",
    "arr[3, : ] = t\n",
    "\n",
    "np.savetxt('data/x.txt', x)\n",
    "np.savetxt('data/xcst.txt', (x, c, s, t))\n",
    "np.savetxt('data/xarr.txt', arr)"
   ]
  },
  {
   "cell_type": "code",
   "execution_count": null,
   "metadata": {},
   "outputs": [],
   "source": [
    "xc = np.loadtxt('data/x.txt')\n",
    "xc, cc, sc, tc = np.loadtxt('data/xcst.txt')\n",
    "arrc = np.loadtxt('data/xarr.txt')"
   ]
  },
  {
   "cell_type": "code",
   "execution_count": null,
   "metadata": {},
   "outputs": [],
   "source": [
    "# Numpy binary output and input\n",
    "np.save('data/array.npy',arr)"
   ]
  },
  {
   "cell_type": "code",
   "execution_count": null,
   "metadata": {},
   "outputs": [],
   "source": [
    "arrc = np.load('data/array.npy')"
   ]
  },
  {
   "cell_type": "code",
   "execution_count": null,
   "metadata": {},
   "outputs": [],
   "source": [
    "np.savez('data/test.npz', x = x, c = c, s = s, t = t)"
   ]
  },
  {
   "cell_type": "code",
   "execution_count": null,
   "metadata": {},
   "outputs": [],
   "source": [
    "temp = np.load('data/test.npz')\n",
    "\n",
    "temp.files\n",
    "xc = temp['x']\n",
    "cc = temp['c']\n",
    "sc = temp['s']\n",
    "tc = temp['t']"
   ]
  },
  {
   "cell_type": "code",
   "execution_count": null,
   "metadata": {},
   "outputs": [],
   "source": [
    "# Maxima and minima\n",
    "x = np.array([[5, 4, 1],\n",
    "              [7, 3, 2]])\n",
    "np.max(x)\n",
    "np.max(x, axis = 0)\n",
    "np.max(x, axis = 1)"
   ]
  },
  {
   "cell_type": "code",
   "execution_count": null,
   "metadata": {},
   "outputs": [],
   "source": [
    "# Simple statistics\n",
    "np.average(x, axis = None, weights = None)"
   ]
  },
  {
   "cell_type": "code",
   "execution_count": null,
   "metadata": {},
   "outputs": [],
   "source": [
    "np.var(x, axis = 0, ddof = 0)"
   ]
  },
  {
   "cell_type": "code",
   "execution_count": null,
   "metadata": {},
   "outputs": [],
   "source": [
    "# Converting coefficients to data\n",
    "\n",
    "roots = [0, 1, 1, 2]\n",
    "coeffs = np.poly(roots)\n",
    "coeffs\n",
    "np.roots(coeffs)\n",
    "x = np.linspace(0, 0.5 * np.pi, 7)\n",
    "y = np.sin(x)\n",
    "c = np.polyfit(x, y, 3)\n",
    "c\n",
    "y1 = np.polyval(c, x)\n",
    "y1 - y"
   ]
  },
  {
   "cell_type": "code",
   "execution_count": null,
   "metadata": {},
   "outputs": [],
   "source": [
    "# Linear algebra\n",
    "I=np.identity(3,dtype=float)."
   ]
  },
  {
   "cell_type": "code",
   "execution_count": null,
   "metadata": {},
   "outputs": [],
   "source": [
    "C=2*np.eye(3,4,-1)+3*np.eye(3,4,0)+4*np.eye(3,4,1)\n",
    "C"
   ]
  },
  {
   "cell_type": "code",
   "execution_count": null,
   "metadata": {},
   "outputs": [],
   "source": [
    "v1=np.array([1,2,3])\n",
    "2 v2=np.array([4,5,6])\n",
    "3 rows=np.vstack((v1,v2))\n",
    "4 rows\n",
    "5 cols=rows.T\n",
    "6 cols"
   ]
  },
  {
   "cell_type": "code",
   "execution_count": null,
   "metadata": {},
   "outputs": [],
   "source": [
    "# More specialized operations on matrices\n",
    "import numpy as np\n",
    "2\n",
    "3 a=np.array([[4,2,0],[9,3,7],[1,2,1]])\n",
    "4 a\n",
    "5 np.linalg.det(a)\n",
    "6 b=np.linalg.inv(a)\n",
    "7 b\n",
    "8 np.dot(b,a)"
   ]
  },
  {
   "cell_type": "code",
   "execution_count": null,
   "metadata": {},
   "outputs": [],
   "source": [
    "import numpy as np\n",
    "2\n",
    "3 a=np.array([[4,2,0],[9,3,7],[1,2,1]])\n",
    "4\n",
    "5 evals, evecs = np.linalg.eig(a)\n",
    "6 eval1 = evals[0]\n",
    "7 evec1 = evecs[:,0]\n",
    "8 np.sum(evec1*evec1)\n",
    "9 np.dot(a, evec1) - eval1*evec1"
   ]
  },
  {
   "cell_type": "code",
   "execution_count": null,
   "metadata": {},
   "outputs": [],
   "source": [
    "# Solving linear systems of equations\n",
    "import numpy as np\n",
    "2 a=np.array([[3,2,1],[5,5,5],[1,4,6]])\n",
    "3 b=np.array([[5,1],[5,0],[-3,-7.0/2]])\n",
    "4 x=np.linalg.solve(a,b)\n",
    "5 x\n",
    "6 np.dot(a,x)-b"
   ]
  },
  {
   "cell_type": "code",
   "execution_count": null,
   "metadata": {},
   "outputs": [],
   "source": [
    "# Scipy\n",
    "import scipy.optimize\n",
    "scipy.optimize?\n",
    "scipy.optimize.rootf?"
   ]
  },
  {
   "cell_type": "code",
   "execution_count": null,
   "metadata": {},
   "outputs": [],
   "source": [
    "import numpy as np\n",
    "2 import scipy.optimize as sco\n",
    "3\n",
    "4 def fun(x):\n",
    "5 return np.cosh(x)/np.sinh(x)-x\n",
    "6\n",
    "7 rooots=sco.fsolve(fun,1.0)\n",
    "8 root= roots[0]\n",
    "9 print \"root is %15.12f and value is %e\" % (root, fun(root))"
   ]
  },
  {
   "cell_type": "code",
   "execution_count": null,
   "metadata": {},
   "outputs": [],
   "source": [
    "%reload_ext watermark\n",
    "%watermark -a \"Caique Miranda\" -gu \"caiquemiranda\" -iv"
   ]
  },
  {
   "attachments": {},
   "cell_type": "markdown",
   "metadata": {},
   "source": [
    "### End."
   ]
  }
 ],
 "metadata": {
  "kernelspec": {
   "display_name": "Python 3",
   "language": "python",
   "name": "python3"
  },
  "language_info": {
   "codemirror_mode": {
    "name": "ipython",
    "version": 3
   },
   "file_extension": ".py",
   "mimetype": "text/x-python",
   "name": "python",
   "nbconvert_exporter": "python",
   "pygments_lexer": "ipython3",
   "version": "3.10.5"
  },
  "orig_nbformat": 4
 },
 "nbformat": 4,
 "nbformat_minor": 2
}
