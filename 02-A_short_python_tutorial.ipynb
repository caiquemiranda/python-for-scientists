{
 "cells": [
  {
   "cell_type": "code",
   "execution_count": null,
   "metadata": {},
   "outputs": [],
   "source": [
    "# Versão da Linguagem Python\n",
    "from platform import python_version\n",
    "print('Versão de Python Neste Jupyter Notebook:', python_version())\n",
    "\n",
    "# usaremos o filtro 'warning' para deixar mais limpo.\n",
    "import warnings\n",
    "warnings.filterwarnings('ignore')"
   ]
  },
  {
   "attachments": {},
   "cell_type": "markdown",
   "metadata": {},
   "source": [
    "### Typing Python"
   ]
  },
  {
   "cell_type": "code",
   "execution_count": null,
   "metadata": {},
   "outputs": [],
   "source": [
    "\"\"\" This is a very short docstring. \"\"\""
   ]
  },
  {
   "cell_type": "code",
   "execution_count": null,
   "metadata": {},
   "outputs": [],
   "source": [
    "a = 4; b = 5.5; c = 1.5 + 2j; d = 'a'\n",
    "e = 6.0 * a - b * b +\\\n",
    "    c ** (a + b + c)\n",
    "\n",
    "f = 6.0 * a - b * b + c ** (\n",
    "    a + b + c)"
   ]
  },
  {
   "cell_type": "code",
   "execution_count": null,
   "metadata": {},
   "outputs": [],
   "source": [
    "# Objects and identifiers\n",
    "p = 3.14\n",
    "p\n",
    "q = p\n",
    "p = 'pi'\n",
    "p\n",
    "q"
   ]
  },
  {
   "cell_type": "code",
   "execution_count": null,
   "metadata": {},
   "outputs": [],
   "source": [
    "# <identifier> = <object>"
   ]
  },
  {
   "cell_type": "code",
   "execution_count": null,
   "metadata": {},
   "outputs": [],
   "source": [
    "# Real numbers\n",
    "-3.14, -314e-2, -314.0e-2, -0.00314E3"
   ]
  },
  {
   "cell_type": "code",
   "execution_count": null,
   "metadata": {},
   "outputs": [],
   "source": [
    "import math\n",
    "\n",
    "dir(math)"
   ]
  },
  {
   "cell_type": "code",
   "execution_count": null,
   "metadata": {},
   "outputs": [],
   "source": [
    "math.atan2? # or help(math.atan2)"
   ]
  },
  {
   "cell_type": "code",
   "execution_count": null,
   "metadata": {},
   "outputs": [],
   "source": [
    "from math import *"
   ]
  },
  {
   "cell_type": "code",
   "execution_count": null,
   "metadata": {},
   "outputs": [],
   "source": [
    "# boolean numbers\n",
    "math.tan(math.pi / 4.0) == 1.0"
   ]
  },
  {
   "cell_type": "code",
   "execution_count": null,
   "metadata": {},
   "outputs": [],
   "source": [
    "(0 <= x) and (x < 1) and (1 < y) and (y > z)"
   ]
  },
  {
   "cell_type": "code",
   "execution_count": null,
   "metadata": {},
   "outputs": [],
   "source": [
    "import foo"
   ]
  },
  {
   "cell_type": "code",
   "execution_count": null,
   "metadata": {},
   "outputs": [],
   "source": [
    "from foo import obj1, obj2"
   ]
  },
  {
   "cell_type": "code",
   "execution_count": null,
   "metadata": {},
   "outputs": [],
   "source": [
    "from foo import *"
   ]
  },
  {
   "cell_type": "code",
   "execution_count": null,
   "metadata": {},
   "outputs": [],
   "source": [
    "from math import *"
   ]
  },
  {
   "cell_type": "code",
   "execution_count": null,
   "metadata": {},
   "outputs": [],
   "source": [
    "from cmath import *"
   ]
  },
  {
   "cell_type": "code",
   "execution_count": null,
   "metadata": {},
   "outputs": [],
   "source": [
    "import math as re\n",
    "import cmath as co"
   ]
  },
  {
   "cell_type": "code",
   "execution_count": null,
   "metadata": {},
   "outputs": [],
   "source": [
    "if __name__ == \"__main__\""
   ]
  },
  {
   "cell_type": "code",
   "execution_count": null,
   "metadata": {},
   "outputs": [],
   "source": [
    "# Lists\n",
    "\n",
    "[1,4.0,'a']\n",
    "u = [1,4.0,'a']\n",
    "v=[3.14,2.78,u,42]\n",
    "print(v)\n",
    "\n",
    "print(len(v))\n",
    "\n",
    "len? # or help(len)\n",
    "print(v * 2)\n",
    "\n",
    "print(v + u)\n",
    "\n",
    "v.append('foo')\n",
    "print(v)"
   ]
  },
  {
   "cell_type": "code",
   "execution_count": null,
   "metadata": {},
   "outputs": [],
   "source": [
    "u = [0, 1, 2, 3, 4, 5, 6, 7]\n",
    "su = u[2:4]\n",
    "print(su)\n",
    "\n",
    "su[0] = 17\n",
    "print(su)\n",
    "print(u)\n",
    "\n",
    "u[2:4] = [3.14, 'a']\n",
    "print(u)"
   ]
  },
  {
   "cell_type": "code",
   "execution_count": null,
   "metadata": {},
   "outputs": [],
   "source": [
    "# List mutability\n",
    "a = 4\n",
    "b = a\n",
    "b = 'foo'\n",
    "print(a)\n",
    "print(b)\n",
    "\n",
    "u = [0, 1, 4, 9, 16]\n",
    "v = u\n",
    "v[2] = 'foo'\n",
    "\n",
    "print(v)\n",
    "print(u)"
   ]
  },
  {
   "cell_type": "code",
   "execution_count": null,
   "metadata": {},
   "outputs": [],
   "source": [
    "u = [0, 1, 4, 9, 16]\n",
    "v = u[ : ]\n",
    "v[2] = 'foo'\n",
    "print(v)\n",
    "print(u)"
   ]
  },
  {
   "cell_type": "code",
   "execution_count": null,
   "metadata": {},
   "outputs": [],
   "source": [
    "# Tuples\n",
    "(a, b, c, d) = (4, 5.0, 1.5 + 2j, 'a')\n",
    "\n",
    "a, b, c, d = 4, 5.0, 1.5 + 2j,"
   ]
  },
  {
   "cell_type": "code",
   "execution_count": null,
   "metadata": {},
   "outputs": [],
   "source": [
    "temp = a\n",
    "a = L1\n",
    "L1 = temp"
   ]
  },
  {
   "cell_type": "code",
   "execution_count": null,
   "metadata": {},
   "outputs": [],
   "source": [
    "a, L1 = L1, a"
   ]
  },
  {
   "cell_type": "code",
   "execution_count": 7,
   "metadata": {},
   "outputs": [],
   "source": [
    "# Strings\n",
    "s1 = \"It's time to go\"\n",
    "s2 = '\"Bravo!\" he shouted.'"
   ]
  },
  {
   "cell_type": "code",
   "execution_count": null,
   "metadata": {},
   "outputs": [],
   "source": [
    "# Dictionaries\n",
    "empty = {}\n",
    "parms = {'alpha': 1.3,\n",
    "         'beta': 2.74}\n",
    "\n",
    "#parms=dict(alpha=1.3,beta=2.74)\n",
    "parms['gamma'] = 0.999\n",
    "parms"
   ]
  },
  {
   "cell_type": "code",
   "execution_count": null,
   "metadata": {},
   "outputs": [],
   "source": [
    "if < Boolean expression >:\n",
    "    <block 1>\n",
    "    <block 2>"
   ]
  },
  {
   "cell_type": "code",
   "execution_count": null,
   "metadata": {},
   "outputs": [],
   "source": [
    "x = 0.47\n",
    "\n",
    "if 0 < x < 1:\n",
    "    print(\"x lies between zero and one.\")\n",
    "y=4"
   ]
  },
  {
   "cell_type": "code",
   "execution_count": null,
   "metadata": {},
   "outputs": [],
   "source": [
    "if < Boolean expression >:\n",
    "    <block 1>\n",
    "else:\n",
    "    <block 2>\n",
    "    <block 3>"
   ]
  },
  {
   "cell_type": "code",
   "execution_count": null,
   "metadata": {},
   "outputs": [],
   "source": [
    "if < Boolean expression 1>:\n",
    "    <block 1>\n",
    "elif <Boolean expression 2>:\n",
    "    <block 2>\n",
    "elif <Boolean expression 3>:\n",
    "    pass\n",
    "else:\n",
    "    <block 4>\n",
    "    <block 5>"
   ]
  },
  {
   "cell_type": "code",
   "execution_count": null,
   "metadata": {},
   "outputs": [],
   "source": [
    "if x>=0:\n",
    "    y=f\n",
    "else:\n",
    "    y=g"
   ]
  },
  {
   "cell_type": "code",
   "execution_count": null,
   "metadata": {},
   "outputs": [],
   "source": [
    "y=f if x>=0 else g"
   ]
  },
  {
   "cell_type": "code",
   "execution_count": null,
   "metadata": {},
   "outputs": [],
   "source": [
    "# Loop constructs\n",
    "for <iterator> in <iterable>:\n",
    "    <block>"
   ]
  },
  {
   "cell_type": "code",
   "execution_count": null,
   "metadata": {},
   "outputs": [],
   "source": [
    "c = 4\n",
    "for c in \"Python\":\n",
    "    print c\n",
    "    c"
   ]
  },
  {
   "cell_type": "code",
   "execution_count": null,
   "metadata": {},
   "outputs": [],
   "source": [
    "for (x,y) in Z:\n",
    "    <block>"
   ]
  },
  {
   "cell_type": "code",
   "execution_count": null,
   "metadata": {},
   "outputs": [],
   "source": [
    "range(start,end,step)"
   ]
  },
  {
   "cell_type": "code",
   "execution_count": null,
   "metadata": {},
   "outputs": [],
   "source": [
    "L=[1,4,9,16,25,36]\n",
    "for it in range(len(L)):\n",
    "    L[it]+=1\n",
    "    L"
   ]
  },
  {
   "cell_type": "code",
   "execution_count": null,
   "metadata": {},
   "outputs": [],
   "source": [
    "for it in range(4):\n",
    "    it*=2\n",
    "    print it\n",
    "    it"
   ]
  },
  {
   "cell_type": "code",
   "execution_count": null,
   "metadata": {},
   "outputs": [],
   "source": [
    "for <iterator> in <iterable>:\n",
    "    <block1>\n",
    "    if <test1>:\n",
    "        continue\n",
    "    <block2>\n",
    "    <block5>"
   ]
  },
  {
   "cell_type": "code",
   "execution_count": null,
   "metadata": {},
   "outputs": [],
   "source": [
    "for <iterator> in <iterable>:\n",
    "    <block1>\n",
    "    if <test2>:\n",
    "        break\n",
    "        <block2>\n",
    "    else:\n",
    "        <block4>\n",
    "        <block5>"
   ]
  },
  {
   "cell_type": "code",
   "execution_count": null,
   "metadata": {},
   "outputs": [],
   "source": [
    "y=107\n",
    "for x in range(2,y):\n",
    "    if y%x == 0:\n",
    "        print y, \" has a factor \", x\n",
    "        break\n",
    "    else:\n",
    "        print y, \" is prime.\""
   ]
  },
  {
   "cell_type": "code",
   "execution_count": null,
   "metadata": {},
   "outputs": [],
   "source": [
    "L1=[2,3,5,7,11,14]\n",
    "L2=[] # Empty list\n",
    "for i in range(len(L1)):\n",
    "    L2.append(L1[i]**2)\n",
    "\n",
    "L2"
   ]
  },
  {
   "cell_type": "code",
   "execution_count": null,
   "metadata": {},
   "outputs": [],
   "source": [
    "L1=[2,3,5,7,11,14]\n",
    "L2=[x**2 for x in L1]\n",
    "L2"
   ]
  },
  {
   "cell_type": "code",
   "execution_count": null,
   "metadata": {},
   "outputs": [],
   "source": [
    "L2=[x*x for x in L1 if x%2]"
   ]
  },
  {
   "cell_type": "code",
   "execution_count": null,
   "metadata": {},
   "outputs": [],
   "source": [
    "import math\n",
    "\n",
    "lpoints=[(1,0),(1,1),(4,3),(5,12)]\n",
    "ldists=[math.sqrt(x*x+y*y) for (x,y) in lpoints]"
   ]
  },
  {
   "cell_type": "code",
   "execution_count": null,
   "metadata": {},
   "outputs": [],
   "source": [
    "l_x=[0,2,3,4]\n",
    "l_y=[1,2]\n",
    "l_dist=[math.sqrt(x*x+y*y) for x in l_x for y in l_y]"
   ]
  },
  {
   "cell_type": "code",
   "execution_count": null,
   "metadata": {},
   "outputs": [],
   "source": [
    "while <test>:\n",
    "    <block1>\n",
    "    <block2>"
   ]
  },
  {
   "cell_type": "code",
   "execution_count": null,
   "metadata": {},
   "outputs": [],
   "source": [
    "while True :\n",
    "    print \"Type Control-C to stop this!\""
   ]
  },
  {
   "cell_type": "code",
   "execution_count": null,
   "metadata": {},
   "outputs": [],
   "source": [
    "def <name>(<arglist>):\n",
    "    <body>"
   ]
  },
  {
   "cell_type": "code",
   "execution_count": null,
   "metadata": {},
   "outputs": [],
   "source": [
    "def add_one(x):\n",
    "    \"\"\" Takes x and returns x + 1. \"\"\"\n",
    "    \n",
    "    x = x + 1\n",
    "    \n",
    "    return x\n",
    "\n",
    "x = 23\n",
    "\n",
    "add_one? # or help(add_one)\n",
    "add_one(0.456)\n",
    "\n",
    "x"
   ]
  },
  {
   "cell_type": "code",
   "execution_count": null,
   "metadata": {},
   "outputs": [],
   "source": [
    "def add_y(x):\n",
    "    \"\"\" Adds y to x and returns x+y. \"\"\"\n",
    "\n",
    "    return x+y\n",
    "\n",
    "add_y(0.456)\n",
    "\n",
    "y=1\n",
    "add_y(0.456)"
   ]
  },
  {
   "cell_type": "code",
   "execution_count": null,
   "metadata": {},
   "outputs": [],
   "source": [
    "def add_x_and_y(x, y):\n",
    "    \"\"\" Add x and y and return them and their sum. \"\"\"\n",
    "\n",
    "    z = x + y\n",
    "\n",
    "    return x, y, z\n",
    "\n",
    "a,b,c = add_x_and_y(1,0.456)\n",
    "print(a)\n",
    "print(b)\n",
    "print(c)\n",
    "\n",
    "f = add_x_and_y\n",
    "f(1,0.456)\n",
    "\n",
    "add_x_and_y\n",
    "f"
   ]
  },
  {
   "cell_type": "code",
   "execution_count": null,
   "metadata": {},
   "outputs": [],
   "source": [
    "L = [0,1,2]\n",
    "id(L)\n",
    "def add_with_side_effects(M):\n",
    "    \"\"\" Increment first element of list. \"\"\"\n",
    "    M[0] += 1\n",
    "\n",
    "add_with_side_effects(L)\n",
    "print(L)\n",
    "print(id(L))"
   ]
  },
  {
   "cell_type": "code",
   "execution_count": null,
   "metadata": {},
   "outputs": [],
   "source": [
    "L = [0,1,2]\n",
    "id(L)\n",
    "def add_without_side_effects(M):\n",
    "    \"\"\" Increment first element of list. \"\"\"\n",
    "\n",
    "    MC=M[ : ]\n",
    "    MC[0]+=1\n",
    "\n",
    "    return MC\n",
    "\n",
    "L = add_without_side_effects(L)\n",
    "L\n",
    "id(L)"
   ]
  },
  {
   "cell_type": "code",
   "execution_count": null,
   "metadata": {},
   "outputs": [],
   "source": [
    "def foo1(a,b,c):\n",
    "    <body>"
   ]
  },
  {
   "cell_type": "code",
   "execution_count": null,
   "metadata": {},
   "outputs": [],
   "source": [
    "def foo2(d = 21.2, e = 4, f ='a'):\n",
    "    <block>"
   ]
  },
  {
   "cell_type": "code",
   "execution_count": null,
   "metadata": {},
   "outputs": [],
   "source": [
    "def foo3(a, b, c, d = 21.2, e = 4, f = 'a')\n",
    "    <block>"
   ]
  },
  {
   "cell_type": "code",
   "execution_count": null,
   "metadata": {},
   "outputs": [],
   "source": [
    "def average(*args):\n",
    "    \"\"\" Return mean of a non-empty tuple of numbers. \"\"\"\n",
    "\n",
    "    print(args)\n",
    "    sum=0.0\n",
    "    for x in args:\n",
    "        sum+=x\n",
    "    \n",
    "    return sum/len(args)\n",
    "\n",
    "average(1,2,3,4)\n",
    "average(1,2,3,4,5)"
   ]
  },
  {
   "cell_type": "code",
   "execution_count": null,
   "metadata": {},
   "outputs": [],
   "source": [
    "def show(a, b, *args, **kwargs):\n",
    "    print( a, b, args, kwargs)\n",
    "\n",
    "show(1.3, 2.7, 3, 'a', 4.2, alpha = 0.99, gamma = 5.67)"
   ]
  },
  {
   "cell_type": "code",
   "execution_count": null,
   "metadata": {},
   "outputs": [],
   "source": [
    "print(things to be printed)"
   ]
  },
  {
   "cell_type": "code",
   "execution_count": null,
   "metadata": {},
   "outputs": [],
   "source": [
    "print(<things to be printed>)"
   ]
  },
  {
   "cell_type": "code",
   "execution_count": null,
   "metadata": {},
   "outputs": [],
   "source": [
    "from __future__ import print_function"
   ]
  },
  {
   "cell_type": "code",
   "execution_count": null,
   "metadata": {},
   "outputs": [],
   "source": [
    "print(\"After iteration \", it, \", the solution was \", y)"
   ]
  },
  {
   "cell_type": "code",
   "execution_count": null,
   "metadata": {},
   "outputs": [],
   "source": [
    "print(f\"After iteration {it}, the solution was {y}\" % (it, y))"
   ]
  },
  {
   "cell_type": "code",
   "execution_count": null,
   "metadata": {},
   "outputs": [],
   "source": [
    "f = lambda x, y : x, y, x + y"
   ]
  },
  {
   "cell_type": "code",
   "execution_count": null,
   "metadata": {},
   "outputs": [],
   "source": [
    "lambda x, y : x, y, x + y"
   ]
  },
  {
   "cell_type": "code",
   "execution_count": null,
   "metadata": {},
   "outputs": [],
   "source": [
    "%%file scripts/frac.py\n",
    "# File frac.py\n",
    "\n",
    "import gcd\n",
    "\n",
    "class Frac:\n",
    "    \"\"\" Fractional class. A Frac is a pair of integers num, den\n",
    "    (with den!=0) whose GCD is 1.\n",
    "    \"\"\"\n",
    "\n",
    "    def __init__(self,n,d):\n",
    "        \"\"\" Construct a Frac from integers n and d.\n",
    "        Needs error message if d = 0!\n",
    "        \"\"\"\n",
    "\n",
    "        hcf = gcd.gcd(n, d)\n",
    "        self.num, self.den = n/hcf, d/hcf\n",
    "\n",
    "    def __str__(self):\n",
    "        \"\"\" Generate a string representation of a Frac. \"\"\"\n",
    "\n",
    "        return \"%d/%d\" % (self.num, self.den)\n",
    "\n",
    "    def __mul__(self,another):\n",
    "        \"\"\" Multiply two Fracs to produce a Frac. \"\"\"\n",
    "\n",
    "        return Frac(self.num * another.num, \n",
    "                    self.den * another.den)\n",
    "\n",
    "    def __add__(self,another):\n",
    "        \"\"\" Add two Fracs to produce a Frac. \"\"\"\n",
    "\n",
    "        return Frac(self.num * another.den + self.den * another.num, \n",
    "                    self.den * another.den)\n",
    "\n",
    "    def to_real(self):\n",
    "        \"\"\" return floating point value of Frac. \"\"\"\n",
    "\n",
    "        return float(self.num)/float(self.den)\n",
    "\n",
    "if __name__==\"__main__\":\n",
    "    a=Frac(3,7)\n",
    "    b=Frac(24,56)\n",
    "    \n",
    "    print(\"a.num= \", a.num, \", b.den = \", b.den)\n",
    "    print(a)\n",
    "    print(b)\n",
    "    print(\"floating point value of a is\")"
   ]
  },
  {
   "cell_type": "code",
   "execution_count": null,
   "metadata": {},
   "outputs": [],
   "source": [
    "%%timeit\n",
    "! python scripts/frac.py"
   ]
  },
  {
   "cell_type": "code",
   "execution_count": null,
   "metadata": {},
   "outputs": [],
   "source": [
    "def sieve_v1(n):\n",
    "    \"\"\"\n",
    "    Use Sieve of Eratosthenes to compute list of primes <= n.\n",
    "    Version 1\n",
    "    \"\"\"\n",
    "    \n",
    "    primes=range(2, n + 1)\n",
    "    for p in primes:\n",
    "        if p * p > n:\n",
    "            break\n",
    "    product = 2 * p\n",
    "    while product <= n:\n",
    "        if product in primes:\n",
    "            primes.remove(product)\n",
    "        product += p\n",
    "    return len(primes),primes"
   ]
  },
  {
   "cell_type": "code",
   "execution_count": null,
   "metadata": {},
   "outputs": [],
   "source": [
    "from sieves import sieve_v1\n",
    "sieve_v1?\n",
    "sieve_v1(18)"
   ]
  },
  {
   "cell_type": "code",
   "execution_count": null,
   "metadata": {},
   "outputs": [],
   "source": [
    "%%timeit sieve_v1(1000)"
   ]
  },
  {
   "cell_type": "code",
   "execution_count": null,
   "metadata": {},
   "outputs": [],
   "source": [
    "def sieve_v2(n):\n",
    "    \"\"\"\n",
    "    Sieve of Eratosthenes to compute list of primes <= n.\n",
    "    Version 2.\n",
    "    \"\"\"\n",
    "\n",
    "    sieve = [True]*(n+1)\n",
    "    for i in xrange(3,n+1,2):\n",
    "        if i*i > n:\n",
    "            break\n",
    "    if sieve[i]:\n",
    "        sieve[i*i: :2*i]=[False]*((n - i*i) // (2*i) + 1)\n",
    "    answer = [2] + [i for i in xrange(3,n+1,2) if sieve[i]]\n",
    "    \n",
    "    return len(answer), answer"
   ]
  },
  {
   "cell_type": "code",
   "execution_count": null,
   "metadata": {},
   "outputs": [],
   "source": [
    "%reload_ext watermark\n",
    "%watermark -a \"Caique Miranda\" -gu \"caiquemiranda\" -iv"
   ]
  },
  {
   "attachments": {},
   "cell_type": "markdown",
   "metadata": {},
   "source": [
    "### End."
   ]
  }
 ],
 "metadata": {
  "kernelspec": {
   "display_name": "Python 3",
   "language": "python",
   "name": "python3"
  },
  "language_info": {
   "codemirror_mode": {
    "name": "ipython",
    "version": 3
   },
   "file_extension": ".py",
   "mimetype": "text/x-python",
   "name": "python",
   "nbconvert_exporter": "python",
   "pygments_lexer": "ipython3",
   "version": "3.10.5"
  },
  "orig_nbformat": 4
 },
 "nbformat": 4,
 "nbformat_minor": 2
}
